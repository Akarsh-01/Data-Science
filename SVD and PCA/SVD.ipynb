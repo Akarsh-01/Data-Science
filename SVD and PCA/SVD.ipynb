{
  "nbformat": 4,
  "nbformat_minor": 0,
  "metadata": {
    "colab": {
      "provenance": []
    },
    "kernelspec": {
      "name": "python3",
      "display_name": "Python 3"
    },
    "language_info": {
      "name": "python"
    }
  },
  "cells": [
    {
      "cell_type": "code",
      "source": [
        "import numpy as np\n",
        "\n",
        "# Define the matrix\n",
        "A = np.array([[1,2,3],[4,5,6],[7,8,9]])\n",
        "\n",
        "# Perform SVD\n",
        "U, S, VT = np.linalg.svd(A)\n",
        "\n",
        "# Print the results\n",
        "print(\"U matrix: \\n\", U)\n",
        "print(\"Singular values: \\n\", S)\n",
        "print(\"VT matrix: \\n\", VT)\n"
      ],
      "metadata": {
        "colab": {
          "base_uri": "https://localhost:8080/"
        },
        "id": "60aTrdO51Nsz",
        "outputId": "61402e41-8c45-41e3-ad29-7c011cb5621d"
      },
      "execution_count": 11,
      "outputs": [
        {
          "output_type": "stream",
          "name": "stdout",
          "text": [
            "U matrix: \n",
            " [[-0.21483724  0.88723069  0.40824829]\n",
            " [-0.52058739  0.24964395 -0.81649658]\n",
            " [-0.82633754 -0.38794278  0.40824829]]\n",
            "Singular values: \n",
            " [1.68481034e+01 1.06836951e+00 4.41842475e-16]\n",
            "VT matrix: \n",
            " [[-0.47967118 -0.57236779 -0.66506441]\n",
            " [-0.77669099 -0.07568647  0.62531805]\n",
            " [-0.40824829  0.81649658 -0.40824829]]\n"
          ]
        }
      ]
    }
  ]
}