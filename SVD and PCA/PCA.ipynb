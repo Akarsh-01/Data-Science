{
  "nbformat": 4,
  "nbformat_minor": 0,
  "metadata": {
    "colab": {
      "provenance": []
    },
    "kernelspec": {
      "name": "python3",
      "display_name": "Python 3"
    },
    "language_info": {
      "name": "python"
    }
  },
  "cells": [
    {
      "cell_type": "code",
      "source": [
        "from sklearn.decomposition import PCA\n",
        "import numpy as np\n",
        "\n",
        "# Input data (2D array)\n",
        "X = np.array([[1, 2, 3], [4, 5, 6], [7, 8, 9]])\n",
        "\n",
        "# Perform PCA with 2 components\n",
        "pca = PCA(n_components=2)\n",
        "pca.fit(X)\n",
        "\n",
        "# Get the transformed data\n",
        "X_pca = pca.transform(X)\n",
        "print (X_pca)\n"
      ],
      "metadata": {
        "colab": {
          "base_uri": "https://localhost:8080/"
        },
        "id": "60aTrdO51Nsz",
        "outputId": "b116470c-b2c0-4fc3-a2d5-f53acc306e5d"
      },
      "execution_count": 10,
      "outputs": [
        {
          "output_type": "stream",
          "name": "stdout",
          "text": [
            "[[ 5.19615242e+00  4.44089210e-16]\n",
            " [ 0.00000000e+00  0.00000000e+00]\n",
            " [-5.19615242e+00 -4.44089210e-16]]\n"
          ]
        }
      ]
    }
  ]
}