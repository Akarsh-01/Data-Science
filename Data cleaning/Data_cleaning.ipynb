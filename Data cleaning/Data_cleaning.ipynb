{
  "nbformat": 4,
  "nbformat_minor": 0,
  "metadata": {
    "colab": {
      "provenance": []
    },
    "kernelspec": {
      "name": "python3",
      "display_name": "Python 3"
    },
    "language_info": {
      "name": "python"
    }
  },
  "cells": [
    {
      "cell_type": "code",
      "source": [
        "import pandas as pd\n",
        "\n",
        "# Load the data into a pandas dataframe\n",
        "df = pd.read_csv(\"https://people.sc.fsu.edu/~jburkardt/data/csv/addresses.csv\")\n",
        "\n",
        "# Check the number of missing values in each column\n",
        "missing_data = df.isnull().sum()\n",
        "\n",
        "# Drop rows with missing data\n",
        "df.dropna(inplace=True)\n",
        "\n",
        "# Fill missing data with mean values\n",
        "df.fillna(df.mean(), inplace=True)\n",
        "\n",
        "# Remove duplicates\n",
        "df.drop_duplicates(inplace=True)\n",
        "\n",
        "# Remove any invalid characters\n",
        "df = df.replace('[^0-9a-zA-Z]+', '', regex=True)\n",
        "\n",
        "# Convert all data to lowercase\n",
        "df = df.applymap(lambda x: x.lower() if type(x) == str else x)\n",
        "\n",
        "# Save the cleaned and transformed data to a new file\n",
        "df.to_csv(\"cleaned_transformed_data.csv\", index=False)\n",
        "\n",
        "print(df)\n"
      ],
      "metadata": {
        "colab": {
          "base_uri": "https://localhost:8080/"
        },
        "id": "60aTrdO51Nsz",
        "outputId": "52739796-8bbd-4eeb-ca8e-48ce496821dd"
      },
      "execution_count": 17,
      "outputs": [
        {
          "output_type": "stream",
          "name": "stdout",
          "text": [
            "              John       Doe          120 jefferson st.   Riverside  NJ  \\\n",
            "0             jack  mcginnis                  220hoboav       phila  pa   \n",
            "1        johndaman    repici             120jeffersonst   riverside  nj   \n",
            "2          stephen     tyler  7452terraceattheplazaroad    sometown  sd   \n",
            "4  joantheboneanne       jet            9thatterraceplc  desertcity  co   \n",
            "\n",
            "    08075  \n",
            "0    9119  \n",
            "1    8075  \n",
            "2   91234  \n",
            "4     123  \n"
          ]
        },
        {
          "output_type": "stream",
          "name": "stderr",
          "text": [
            "<ipython-input-17-aaaa57c0ed28>:13: FutureWarning: Dropping of nuisance columns in DataFrame reductions (with 'numeric_only=None') is deprecated; in a future version this will raise TypeError.  Select only valid columns before calling the reduction.\n",
            "  df.fillna(df.mean(), inplace=True)\n"
          ]
        }
      ]
    }
  ]
}