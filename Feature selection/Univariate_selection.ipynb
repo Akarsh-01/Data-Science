{
  "nbformat": 4,
  "nbformat_minor": 0,
  "metadata": {
    "colab": {
      "provenance": []
    },
    "kernelspec": {
      "name": "python3",
      "display_name": "Python 3"
    },
    "language_info": {
      "name": "python"
    }
  },
  "cells": [
    {
      "cell_type": "code",
      "source": [
        "import pandas as pd\n",
        "import numpy as np\n",
        "from sklearn.feature_selection import SelectKBest, chi2\n",
        "\n",
        "# Load the data into a pandas dataframe\n",
        "df = pd.read_csv(\"/content/pima-indians-diabetes.csv\")\n",
        "\n",
        "# Split the data into features and target\n",
        "X = df.iloc[:,:-1]\n",
        "y = df.iloc[:,-1]\n",
        "\n",
        "# Perform univariate selection\n",
        "selector = SelectKBest(score_func=chi2, k=2)\n",
        "fit = selector.fit(X, y)\n",
        "\n",
        "# Get the top 2 features based on their contribution\n",
        "top_features = fit.scores_\n",
        "top_features_index = fit.get_support(indices=True)\n",
        "top_features_names = X.columns[top_features_index]\n",
        "print(\"Top features:\", top_features_names)\n"
      ],
      "metadata": {
        "colab": {
          "base_uri": "https://localhost:8080/"
        },
        "id": "60aTrdO51Nsz",
        "outputId": "4b955051-0758-462d-f45a-2287d9eeae31"
      },
      "execution_count": 23,
      "outputs": [
        {
          "output_type": "stream",
          "name": "stdout",
          "text": [
            "Top features: Index(['2. Plasma glucose concentration a 2 hours in an oral glucose tolerance test', '5. 2-Hour serum insulin (mu U/ml)'], dtype='object')\n"
          ]
        }
      ]
    }
  ]
}