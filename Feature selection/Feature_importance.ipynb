{
  "nbformat": 4,
  "nbformat_minor": 0,
  "metadata": {
    "colab": {
      "provenance": []
    },
    "kernelspec": {
      "name": "python3",
      "display_name": "Python 3"
    },
    "language_info": {
      "name": "python"
    }
  },
  "cells": [
    {
      "cell_type": "code",
      "source": [
        "import pandas as pd\n",
        "import numpy as np\n",
        "from sklearn.ensemble import ExtraTreesClassifier\n",
        "\n",
        "# Load the data into a pandas dataframe\n",
        "df = pd.read_csv(\"/content/pima-indians-diabetes.csv\")\n",
        "\n",
        "# Split the data into features and target\n",
        "X = df.iloc[:,:-1]\n",
        "y = df.iloc[:,-1]\n",
        "\n",
        "# Train an Extra Trees Classifier\n",
        "model = ExtraTreesClassifier()\n",
        "model.fit(X, y)\n",
        "\n",
        "# Get the feature importance scores\n",
        "importance = model.feature_importances_\n",
        "\n",
        "# Get the index of the top 2 features\n",
        "top_features_index = np.argsort(importance)[::-1][:2]\n",
        "top_features_names = X.columns[top_features_index]\n",
        "print(\"Top features:\", top_features_names)"
      ],
      "metadata": {
        "colab": {
          "base_uri": "https://localhost:8080/"
        },
        "id": "60aTrdO51Nsz",
        "outputId": "afc9ee5f-1860-4433-acba-619ed2da68e9"
      },
      "execution_count": 38,
      "outputs": [
        {
          "output_type": "stream",
          "name": "stdout",
          "text": [
            "Top features: Index(['2. Plasma glucose concentration a 2 hours in an oral glucose tolerance test', '8. Age (years)'], dtype='object')\n"
          ]
        }
      ]
    }
  ]
}